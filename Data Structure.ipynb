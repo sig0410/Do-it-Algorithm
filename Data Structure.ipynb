{
 "cells": [
  {
   "cell_type": "markdown",
   "metadata": {},
   "source": [
    "# Data Structure\n",
    "1. 자료구조 : 논리적인 관계로 이루어진 데이터 구성 \n",
    "2. 자료구조 : 데이터 단위와 데이터 자체 사이의 물리적 또는 논리적 관계 즉, 데이터가 모여 있는 구조 "
   ]
  },
  {
   "cell_type": "code",
   "execution_count": 12,
   "metadata": {},
   "outputs": [
    {
     "name": "stdout",
     "output_type": "stream",
     "text": [
      "[2, 6, 10]\n"
     ]
    }
   ],
   "source": [
    "n = [1, 2, 3, 4, 5]\n",
    "t = [num * 2 for num in n if num % 2 == 1]\n",
    "print(t)\n",
    "\n",
    "# 내부 표기 생성 : 리스트안에서 for나 if 문을 사용해서 새로운 리스트 생성하는 것 "
   ]
  },
  {
   "cell_type": "markdown",
   "metadata": {},
   "source": [
    "# Array \n",
    "1. 배열을 사용하면 따로 흩어진 변수를 하나로 묶어서 사용 가능 \n",
    "2. 파이썬에서는 배열을 List와 Tuple로 구현 가능 "
   ]
  },
  {
   "cell_type": "code",
   "execution_count": 1,
   "metadata": {},
   "outputs": [
    {
     "name": "stdout",
     "output_type": "stream",
     "text": [
      "1번학생의 점수50\n",
      "2번학생의 점수40\n",
      "3번학생의 점수30\n",
      "합계는 120점입니다\n",
      "평균은 40.0점입니다\n"
     ]
    }
   ],
   "source": [
    "score1 = int(input('1번학생의 점수'))\n",
    "score2 = int(input('2번학생의 점수'))\n",
    "score3 = int(input('3번학생의 점수'))\n",
    "\n",
    "total = 0\n",
    "total += score1 \n",
    "total += score2 \n",
    "total += score3\n",
    "\n",
    "print(f'합계는 {total}점입니다')\n",
    "print(f'평균은 {total/3}점입니다')"
   ]
  },
  {
   "cell_type": "markdown",
   "metadata": {},
   "source": [
    "### LIST\n",
    "1. 원소를 변경할 수 있음 \n",
    "2. 다양한 자료형 객체를 원소로 하는 리스트 생성 가능 \n",
    "3. 리스트, 문자, 튜플, 집합 등 다양하게 생성 "
   ]
  },
  {
   "cell_type": "code",
   "execution_count": 2,
   "metadata": {},
   "outputs": [
    {
     "name": "stdout",
     "output_type": "stream",
     "text": [
      "[0, 1, 2, 3, 4, 5, 6]\n",
      "[3, 4, 5, 6, 7]\n",
      "[3, 5, 7, 9, 11]\n"
     ]
    }
   ],
   "source": [
    "l1 = list(range(7))\n",
    "l2 = list(range(3,8))\n",
    "l3 = list(range(3, 13, 2))\n",
    "\n",
    "print(l1)\n",
    "print(l2)\n",
    "print(l3)\n",
    "\n",
    "# range함수를 사용해서 특정 범위의 정수 리스트 생성 가능 <- 이건 몰랐넴 "
   ]
  },
  {
   "cell_type": "markdown",
   "metadata": {},
   "source": [
    "### Tuple\n",
    "1. 원소를 변경할 수 없음 \n",
    "2. 다양한 자료형 객체를 원소로 하는 튜플 생성 가능 "
   ]
  },
  {
   "cell_type": "code",
   "execution_count": 3,
   "metadata": {},
   "outputs": [
    {
     "name": "stdout",
     "output_type": "stream",
     "text": [
      "(0, 1, 2, 3, 4, 5, 6)\n",
      "(3, 4, 5, 6, 7)\n",
      "(3, 5, 7, 9, 11)\n"
     ]
    }
   ],
   "source": [
    "t1 = tuple(range(7))\n",
    "t2 = tuple(range(3,8))\n",
    "t3 = tuple(range(3, 13, 2))\n",
    "\n",
    "print(t1)\n",
    "print(t2)\n",
    "print(t3)"
   ]
  },
  {
   "cell_type": "code",
   "execution_count": 5,
   "metadata": {},
   "outputs": [
    {
     "name": "stdout",
     "output_type": "stream",
     "text": [
      "1 2 3\n"
     ]
    }
   ],
   "source": [
    "x = [1, 2, 3]\n",
    "a, b, c = x\n",
    "print(a, b, c)\n",
    "\n",
    "# Unpack : 우변의 원소를 좌변의 변수에 한번에 대입"
   ]
  },
  {
   "cell_type": "code",
   "execution_count": 6,
   "metadata": {},
   "outputs": [
    {
     "name": "stdout",
     "output_type": "stream",
     "text": [
      "2\n",
      "7\n",
      "6\n",
      "3\n"
     ]
    }
   ],
   "source": [
    "x = [1, 2, 3, 4, 5, 6, 7]\n",
    "print(x[1])\n",
    "print(x[6])\n",
    "print(x[-2])\n",
    "print(x[-5])\n",
    "\n",
    "# Index를 이용하여 리스트의 특정 값을 추출 "
   ]
  },
  {
   "cell_type": "code",
   "execution_count": 8,
   "metadata": {},
   "outputs": [
    {
     "name": "stdout",
     "output_type": "stream",
     "text": [
      "[11, 22, 33]\n",
      "[11, 33, 55, 77]\n",
      "[44, 55, 66]\n"
     ]
    }
   ],
   "source": [
    "s = [11, 22, 33, 44, 55 ,66 ,77]\n",
    "print(s[0:3])\n",
    "print(s[0:7:2]) # 7번째까지 2씩 건너뛰며 출력 \n",
    "print(s[-4:-1])\n",
    "\n",
    "# Index를 이용하여 리스트의 특정 값들을 추출 "
   ]
  },
  {
   "cell_type": "code",
   "execution_count": 11,
   "metadata": {},
   "outputs": [
    {
     "name": "stdout",
     "output_type": "stream",
     "text": [
      "4 10\n"
     ]
    }
   ],
   "source": [
    "# 변수에 어떤 값을 대입하면 값이 아니라 식별번호가 바뀐다는 것 \n",
    "x = 6\n",
    "y = 2\n",
    "x, y = y+2, x+4\n",
    "print(x, y)\n",
    "\n",
    "# Mutable : 값을 변경할 수 있는 특성 ex) List, Dictionary, Set\n",
    "# Immutable : 값을 변경할 수 없는 특성 ex) Number, Char, Tuple"
   ]
  }
 ],
 "metadata": {
  "kernelspec": {
   "display_name": "Python 3",
   "language": "python",
   "name": "python3"
  },
  "language_info": {
   "codemirror_mode": {
    "name": "ipython",
    "version": 3
   },
   "file_extension": ".py",
   "mimetype": "text/x-python",
   "name": "python",
   "nbconvert_exporter": "python",
   "pygments_lexer": "ipython3",
   "version": "3.7.4"
  }
 },
 "nbformat": 4,
 "nbformat_minor": 2
}
