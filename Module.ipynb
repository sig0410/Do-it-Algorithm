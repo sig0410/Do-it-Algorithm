{
 "cells": [
  {
   "cell_type": "code",
   "execution_count": 5,
   "metadata": {},
   "outputs": [],
   "source": [
    "def max1(a):\n",
    "    maximum = a[0]\n",
    "    for i in range(1,len(a)):\n",
    "        if a[i] > maximum:\n",
    "            maximum = a[i]\n",
    "    return maximum"
   ]
  },
  {
   "cell_type": "code",
   "execution_count": 6,
   "metadata": {
    "scrolled": true
   },
   "outputs": [
    {
     "name": "stdout",
     "output_type": "stream",
     "text": [
      "121245\n"
     ]
    }
   ],
   "source": [
    "b = [123,42352,121245, 3241,1]\n",
    "print(max1(b))"
   ]
  },
  {
   "cell_type": "code",
   "execution_count": 29,
   "metadata": {},
   "outputs": [
    {
     "name": "stdout",
     "output_type": "stream",
     "text": [
      "x[0] 값을 입력하세요 : 15\n",
      "x[1] 값을 입력하세요 : 235\n",
      "x[2] 값을 입력하세요 : 4343\n",
      "x[3] 값을 입력하세요 : 3\n",
      "x[4] 값을 입력하세요 : 3234\n",
      "x[5] 값을 입력하세요 : End\n",
      "5개를 입력했습니다.\n",
      "최대값은 4343입니다.\n"
     ]
    }
   ],
   "source": [
    "from max import max_of \n",
    "# max.py의 max_of라는 함수를 불러오기\n",
    "# 재사용 함수를 만드는 법 \n",
    "\n",
    "n = 0\n",
    "x = []\n",
    "\n",
    "while True:\n",
    "    s = input(f'x[{n}] 값을 입력하세요 : ')\n",
    "    if s == 'End': # End를 입력하게 되면 끝남\n",
    "        break\n",
    "    x.append(int(s))\n",
    "    n += 1\n",
    "    \n",
    "print(f'{n}개를 입력했습니다.')\n",
    "print(f'최대값은 {max_of(x)}입니다.')"
   ]
  },
  {
   "cell_type": "code",
   "execution_count": 30,
   "metadata": {},
   "outputs": [
    {
     "name": "stdout",
     "output_type": "stream",
     "text": [
      "난수 개수 입력 : 5\n",
      "난수 최소값 입력 : 1\n",
      "난수 최대값 입력 : 13523\n",
      "[13080, 10142, 1334, 1160, 12403]\n",
      "이 가운데 최대값은 13080입니다.\n"
     ]
    }
   ],
   "source": [
    "import random \n",
    "from max import max_of\n",
    "\n",
    "n = int(input('난수 개수 입력 : '))\n",
    "lo = int(input('난수 최소값 입력 : '))\n",
    "hi = int(input('난수 최대값 입력 : '))\n",
    "x = [None] * num\n",
    "\n",
    "for i in range(num):\n",
    "    x[i] = random.randint(lo, hi)\n",
    "    # lo이상 hi이하의 난수 반환 \n",
    "    \n",
    "print(f'{(x)}')\n",
    "print(f'이 가운데 최대값은 {max_of(x)}입니다.')"
   ]
  },
  {
   "cell_type": "code",
   "execution_count": 32,
   "metadata": {},
   "outputs": [
    {
     "name": "stdout",
     "output_type": "stream",
     "text": [
      "(4, 7, 5.6, 2, 3.14, 1)의 최대값은 7입니다\n",
      "string의 최대값은 t입니다\n",
      "['DTS', 'AAC', 'FLAC']의 최대값은 FLAC입니다\n"
     ]
    }
   ],
   "source": [
    "from max import max_of\n",
    "\n",
    "t = (4, 7, 5.6, 2, 3.14, 1)\n",
    "s = 'string'\n",
    "a = ['DTS', 'AAC', 'FLAC']\n",
    "\n",
    "print(f'{t}의 최대값은 {max_of(t)}입니다')\n",
    "print(f'{s}의 최대값은 {max_of(s)}입니다')\n",
    "print(f'{a}의 최대값은 {max_of(a)}입니다')\n",
    "\n",
    "# string에서 t가 가장 큰 문자열이기 때문에 t를 반환 \n",
    "# 사전순으로 가장 큰 문자열인 FALC 반환 "
   ]
  }
 ],
 "metadata": {
  "kernelspec": {
   "display_name": "Python 3",
   "language": "python",
   "name": "python3"
  },
  "language_info": {
   "codemirror_mode": {
    "name": "ipython",
    "version": 3
   },
   "file_extension": ".py",
   "mimetype": "text/x-python",
   "name": "python",
   "nbconvert_exporter": "python",
   "pygments_lexer": "ipython3",
   "version": "3.7.4"
  }
 },
 "nbformat": 4,
 "nbformat_minor": 2
}
