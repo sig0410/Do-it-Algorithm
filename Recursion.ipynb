{
 "cells": [
  {
   "cell_type": "markdown",
   "metadata": {},
   "source": [
    "### Recursion\n",
    "    - 재귀(Recursion) : 자기 자신을 포함하고 다시 자기 자신을 사용하여 정의되는 것 \n",
    "    - 재귀를 효과적으로 사용하면 프로그램을 간결하고 호율성 좋게 작성할 수 있음 "
   ]
  },
  {
   "cell_type": "code",
   "execution_count": 3,
   "metadata": {},
   "outputs": [
    {
     "name": "stdout",
     "output_type": "stream",
     "text": [
      "출력할 팩토리얼 값을 입력하세요. :1\n",
      "1의 팩토리얼은 1 입니다.\n"
     ]
    }
   ],
   "source": [
    "# 팩토리얼(Factorial) : 재귀를 사용하는 대표적인 예시\n",
    "\n",
    "def factorial(n : int) -> int:\n",
    "    \n",
    "    if n > 0:\n",
    "        return n * factorial(n - 1)\n",
    "    else:\n",
    "        return 1\n",
    "    \n",
    "if __name__ == '__main__':\n",
    "    n = int(input('출력할 팩토리얼 값을 입력하세요. :'))\n",
    "    print(f'{n}의 팩토리얼은 {factorial(n)} 입니다.')\n",
    "    \n",
    "# n이 1이면 1과 리턴되는 값이 1이기 때문에 결과는 1이다.\n",
    "# 재귀 호출 : 값을 구하기 위해 다시 자신과 똑같은 함수의 호출"
   ]
  },
  {
   "cell_type": "markdown",
   "metadata": {},
   "source": [
    "### 직접 재귀 (Direct Recursion)\n",
    "    - 자신과 똑같은 함수를 호출하는 방식 \n",
    "  \n",
    "### 간접 재귀(Indirect Recursion)\n",
    "    - a()함수가 b()함수를 호출하고 다시 b()함수가 a()함수를 호출하는 방식 "
   ]
  },
  {
   "cell_type": "code",
   "execution_count": 9,
   "metadata": {},
   "outputs": [
    {
     "name": "stdout",
     "output_type": "stream",
     "text": [
      "두 정수의 최대 공약수를 구합니다. \n",
      "첫 번째 정수값 입력 : 4\n",
      "두 번째 정수값 입력 : 18\n",
      "두 정수값의 최대 공약수는 2 입니다.\n"
     ]
    }
   ],
   "source": [
    "# 유클리드 호제법으로 두 정수값의 최대 공약수를 구하는 알고리즘 \n",
    "\n",
    "def gcd(x : int, y : int) -> int:\n",
    "    if y == 0:\n",
    "        return x \n",
    "    else:\n",
    "        return gcd(y, x % y)\n",
    "    \n",
    "if __name__ == '__main__':\n",
    "    print('두 정수의 최대 공약수를 구합니다. ')\n",
    "    x = int(input('첫 번째 정수값 입력 : '))\n",
    "    y = int(input('두 번째 정수값 입력 : '))\n",
    "    \n",
    "    print(f'두 정수값의 최대 공약수는 {gcd(x,y)} 입니다.')"
   ]
  },
  {
   "cell_type": "code",
   "execution_count": 11,
   "metadata": {},
   "outputs": [
    {
     "name": "stdout",
     "output_type": "stream",
     "text": [
      "정수값을 입력 : 4\n",
      "1\n",
      "2\n",
      "3\n",
      "1\n",
      "4\n",
      "1\n",
      "2\n"
     ]
    }
   ],
   "source": [
    "def recur(n : int) -> int:\n",
    "    \n",
    "    if n > 0:\n",
    "        recur(n - 1)\n",
    "        print(n)\n",
    "        recur(n - 2)\n",
    "        \n",
    "x = int(input('정수값을 입력 : '))\n",
    "\n",
    "recur(x)\n",
    "# Top Down Analysis와 Bottom Up Analysis 공부 "
   ]
  },
  {
   "cell_type": "code",
   "execution_count": 13,
   "metadata": {},
   "outputs": [
    {
     "name": "stdout",
     "output_type": "stream",
     "text": [
      "정수값을 입력 : 4\n",
      "1\n",
      "2\n",
      "3\n",
      "4\n"
     ]
    }
   ],
   "source": [
    "def recur1(n : int) -> int:\n",
    "    \n",
    "    if n > 0:\n",
    "        recur1(n - 1)\n",
    "        print(n)\n",
    "        n = n - 2\n",
    "        \n",
    "x = int(input('정수값을 입력 : '))\n",
    "\n",
    "recur1(x)\n",
    "\n",
    "# 꼬리 재귀 제거 "
   ]
  },
  {
   "cell_type": "code",
   "execution_count": 16,
   "metadata": {},
   "outputs": [
    {
     "name": "stdout",
     "output_type": "stream",
     "text": [
      "정수값을 입력하세요. : 4\n",
      "1\n",
      "2\n",
      "3\n",
      "1\n",
      "4\n",
      "1\n",
      "2\n"
     ]
    }
   ],
   "source": [
    "# 재귀 제거 \n",
    "\n",
    "from stack1 import Stack \n",
    "\n",
    "def recur2(n : int) -> int:\n",
    "    \n",
    "    s = Stack(n)\n",
    "    \n",
    "    while True:\n",
    "        if n > 0:\n",
    "            s.push(n)\n",
    "            n = n - 1\n",
    "            continue\n",
    "        if not s.is_empty():\n",
    "            n = s.pop()\n",
    "            print(n)\n",
    "            n = n - 2\n",
    "            continue\n",
    "        break\n",
    "\n",
    "x = int(input('정수값을 입력하세요. : '))\n",
    "\n",
    "recur2(x)\n",
    "\n",
    "# 차근차근 생각해보면 밑의 결과를 이해할 수 있음 "
   ]
  },
  {
   "cell_type": "markdown",
   "metadata": {},
   "source": [
    "### Towers Of Hanoi \n",
    "    - 작은 원반 위에 큰 원반이 아래에 위치하는 규칙을 지키면서 기둥 3개를 이용해 원반을 옮기는 문제 "
   ]
  },
  {
   "cell_type": "code",
   "execution_count": 19,
   "metadata": {},
   "outputs": [
    {
     "name": "stdout",
     "output_type": "stream",
     "text": [
      "하노이 탑을 구현.\n",
      "원반 개수를 입력 : 3\n",
      "원반 [1]를 1기둥에서 3기둥으로 옮깁니다.\n",
      "원반 [2]를 1기둥에서 2기둥으로 옮깁니다.\n",
      "원반 [1]를 3기둥에서 2기둥으로 옮깁니다.\n",
      "원반 [3]를 1기둥에서 3기둥으로 옮깁니다.\n",
      "원반 [1]를 2기둥에서 1기둥으로 옮깁니다.\n",
      "원반 [2]를 2기둥에서 3기둥으로 옮깁니다.\n",
      "원반 [1]를 1기둥에서 3기둥으로 옮깁니다.\n"
     ]
    }
   ],
   "source": [
    "def move(no : int, x : int, y : int) -> None:\n",
    "    # 원반 no개를 x 기둥에서 y 기둥으로 옮김 \n",
    "    \n",
    "    if no > 1:\n",
    "        move(no - 1, x, 6 - x - y)\n",
    "    \n",
    "    print(f'원반 [{no}]를 {x}기둥에서 {y}기둥으로 옮깁니다.')\n",
    "    \n",
    "    if no > 1:\n",
    "        move(no - 1, 6 - x - y, y)\n",
    "        \n",
    "print('하노이 탑을 구현.')\n",
    "n = int(input('원반 개수를 입력 : '))\n",
    "\n",
    "move(n, 1, 3)"
   ]
  }
 ],
 "metadata": {
  "kernelspec": {
   "display_name": "Python 3",
   "language": "python",
   "name": "python3"
  },
  "language_info": {
   "codemirror_mode": {
    "name": "ipython",
    "version": 3
   },
   "file_extension": ".py",
   "mimetype": "text/x-python",
   "name": "python",
   "nbconvert_exporter": "python",
   "pygments_lexer": "ipython3",
   "version": "3.7.4"
  }
 },
 "nbformat": 4,
 "nbformat_minor": 2
}
