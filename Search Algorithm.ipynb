{
 "cells": [
  {
   "cell_type": "markdown",
   "metadata": {},
   "source": [
    "### Linear Search\n",
    "    - 직선(선형) 모양으로 늘어선 배열에서 검색하는 경우 원하는 키값을 가진 원소를 찾을 때까지 순서대로 검색하는 알고리즘 "
   ]
  },
  {
   "cell_type": "markdown",
   "metadata": {},
   "source": [
    "While문을 사용한 Linear Search"
   ]
  },
  {
   "cell_type": "code",
   "execution_count": 4,
   "metadata": {
    "scrolled": true
   },
   "outputs": [
    {
     "name": "stdout",
     "output_type": "stream",
     "text": [
      "원소 수 입력 : 5\n",
      "x[0] : 23\n",
      "x[1] : 1243\n",
      "x[2] : 2345\n",
      "x[3] : 345\n",
      "x[4] : 1234\n",
      "검색할 값 입력 : 345\n",
      "검색한 값은 x[3]에 존재합니다.\n"
     ]
    }
   ],
   "source": [
    "from typing import Any, Sequence\n",
    "\n",
    "def seq_search(a : Sequence, key : Any) -> int:\n",
    "    \n",
    "    i = 0\n",
    "    \n",
    "    while True:\n",
    "        if i == len(a):\n",
    "        # 원하는 키값을 찾지 못하고 검색 실패한 경우\n",
    "            return -1 \n",
    "        # 검색을 실패했으니 -1을 반환 \n",
    "        \n",
    "        if a[i] == key:\n",
    "            return i \n",
    "        # 원하는 키값을 찾아 해당 인덱스 번호를 출력 \n",
    "        i += 1 \n",
    "        \n",
    "if __name__ == '__main__':\n",
    "    num = int(input('원소 수 입력 : '))\n",
    "    x = [None] * num\n",
    "    \n",
    "    for i in range(num):\n",
    "        x[i] = int(input(f'x[{i}] : '))\n",
    "    # x에 원소를 넣어줌 \n",
    "    \n",
    "    ky = int(input('검색할 값 입력 : '))\n",
    "    \n",
    "    idx = seq_search(x, ky)\n",
    "    \n",
    "    if idx == -1:\n",
    "        print('검색한 원소가 없습니다.')\n",
    "        \n",
    "    else:\n",
    "        print(f'검색한 값은 x[{idx}]에 존재합니다.')\n",
    "    "
   ]
  },
  {
   "cell_type": "markdown",
   "metadata": {},
   "source": [
    "for문을 사용한 Linear Search"
   ]
  },
  {
   "cell_type": "code",
   "execution_count": 5,
   "metadata": {
    "scrolled": true
   },
   "outputs": [
    {
     "name": "stdout",
     "output_type": "stream",
     "text": [
      "원소 수 입력 : 3\n",
      "x[0] : 124\n",
      "x[1] : 234\n",
      "x[2] : 345\n",
      "검색할 값 입력 : 124\n",
      "검색한 값은 x[0]에 존재합니다.\n"
     ]
    }
   ],
   "source": [
    "from typing import Any, Sequence\n",
    "\n",
    "def seq_search1(a : Sequence, key : Any) -> int:\n",
    "    \n",
    "    for i in range(len(a)):\n",
    "        if a[i] == key:\n",
    "            return i\n",
    "        \n",
    "    return -1\n",
    "\n",
    "if __name__ == '__main__':\n",
    "    num = int(input('원소 수 입력 : '))\n",
    "    x = [None] * num\n",
    "    \n",
    "    for i in range(num):\n",
    "        x[i] = int(input(f'x[{i}] : '))\n",
    "    # x에 원소를 넣어줌 \n",
    "    \n",
    "    ky = int(input('검색할 값 입력 : '))\n",
    "    \n",
    "    idx = seq_search1(x, ky)\n",
    "    \n",
    "    if idx == -1:\n",
    "        print('검색한 원소가 없습니다.')\n",
    "        \n",
    "    else:\n",
    "        print(f'검색한 값은 x[{idx}]에 존재합니다.')\n",
    "    "
   ]
  },
  {
   "cell_type": "code",
   "execution_count": 10,
   "metadata": {},
   "outputs": [
    {
     "name": "stdout",
     "output_type": "stream",
     "text": [
      "실수를 검색\n",
      "x[0] : 2.34\n",
      "x[1] : 1.32\n",
      "x[2] : 234\n",
      "x[3] : 23.12\n",
      "x[4] : 2.345\n",
      "x[5] : End\n",
      "검색할 값을 입력 : 1.32\n",
      "검색한 원소는 x[1]에 있습니다.\n"
     ]
    }
   ],
   "source": [
    "from Search_Algorithm import seq_search\n",
    "# .py 확장자로 저장해서 미리 저장한 함수를 불러와서 사용가능 \n",
    "\n",
    "print('실수를 검색')\n",
    "\n",
    "number = 0 \n",
    "x = []\n",
    "\n",
    "while True:\n",
    "    s = input(f'x[{number}] : ')\n",
    "    # 값 입력 \n",
    "    \n",
    "    if s == 'End':\n",
    "        break\n",
    "        # End를 입력하면 끝이남 \n",
    "        \n",
    "    x.append(float(s))\n",
    "    number += 1\n",
    "    \n",
    "ky = float(input('검색할 값을 입력 : '))\n",
    "\n",
    "idx = seq_search(x, ky)\n",
    "if idx == -1:\n",
    "    print('검색할 원소가 존재하지 않습니다.')\n",
    "else:\n",
    "    print(f'검색한 원소는 x[{idx}]에 있습니다.')"
   ]
  },
  {
   "cell_type": "code",
   "execution_count": 11,
   "metadata": {},
   "outputs": [
    {
     "name": "stdout",
     "output_type": "stream",
     "text": [
      "(4, 7, 5.6, 2, 3.14, 1)에서 5.6의 인덱스는 2입니다.\n",
      "string에서 \"n\"의 인덱스는 4입니다.\n",
      "['DTS', 'AAC', 'FLAC']에서 \"DTS\"의 인덱스는 0입니다.\n"
     ]
    }
   ],
   "source": [
    "from Search_Algorithm import seq_search\n",
    "\n",
    "t = (4, 7, 5.6, 2, 3.14, 1)\n",
    "s = 'string'\n",
    "a = ['DTS', 'AAC', 'FLAC']\n",
    "\n",
    "print(f'{t}에서 5.6의 인덱스는 {seq_search(t, 5.6)}입니다.')\n",
    "print(f'{s}에서 \"n\"의 인덱스는 {seq_search(s, \"n\")}입니다.')\n",
    "print(f'{a}에서 \"DTS\"의 인덱스는 {seq_search(a, \"DTS\")}입니다.')"
   ]
  },
  {
   "cell_type": "markdown",
   "metadata": {},
   "source": [
    "### 보초법 \n",
    "    - 종료조건을 반복하게 되면 검사 비용을 무시할 수 없음 \n",
    "    - 이러한 비용을 반으로 줄이는 것이 보초법 "
   ]
  },
  {
   "cell_type": "code",
   "execution_count": 17,
   "metadata": {},
   "outputs": [
    {
     "name": "stdout",
     "output_type": "stream",
     "text": [
      "원소 수를 입력하세요 : 5\n",
      "x[0] : 23423\n",
      "x[1] : 1243\n",
      "x[2] : 23421\n",
      "x[3] : 234\n",
      "x[4] : 432\n",
      "검색할 값을 입력하세요 : 234\n",
      "검색값은 x[3]에 있습니다.\n"
     ]
    }
   ],
   "source": [
    "from typing import Any, Sequence \n",
    "import copy \n",
    "\n",
    "def seq_search2(seq: Sequence, key : Any) -> int:\n",
    "    \n",
    "    a = copy.deepcopy(seq)\n",
    "    # seq를 복사\n",
    "    a.append(key)\n",
    "    # 검색하고자 하는 key를 추가 \n",
    "    \n",
    "    i = 0\n",
    "    \n",
    "    while True:\n",
    "        if a[i] == key:\n",
    "            break\n",
    "        i += 1\n",
    "    \n",
    "    return -1 if i ==len(seq) else i \n",
    "        \n",
    "if __name__ == '__main__':\n",
    "    num = int(input('원소 수를 입력하세요 : '))\n",
    "    x = [None] * num\n",
    "    \n",
    "    for i in range(num):\n",
    "        x[i] = int(input(f'x[{i}] : '))\n",
    "        \n",
    "    ky = int(input('검색할 값을 입력하세요 : '))\n",
    "    \n",
    "    idx = seq_search2(x, ky)\n",
    "    \n",
    "    if idx == -1:\n",
    "        print('검색값을 가지는 원소가 없습니다.')\n",
    "    else:\n",
    "        print(f'검색값은 x[{idx}]에 있습니다.')"
   ]
  }
 ],
 "metadata": {
  "kernelspec": {
   "display_name": "Python 3",
   "language": "python",
   "name": "python3"
  },
  "language_info": {
   "codemirror_mode": {
    "name": "ipython",
    "version": 3
   },
   "file_extension": ".py",
   "mimetype": "text/x-python",
   "name": "python",
   "nbconvert_exporter": "python",
   "pygments_lexer": "ipython3",
   "version": "3.7.4"
  }
 },
 "nbformat": 4,
 "nbformat_minor": 2
}
